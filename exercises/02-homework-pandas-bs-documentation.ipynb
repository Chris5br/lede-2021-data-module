{
 "cells": [
  {
   "cell_type": "markdown",
   "metadata": {},
   "source": [
    "# Data module class 2\n",
    "Reading documentation: Pandas and BeautifulSoup"
   ]
  },
  {
   "cell_type": "code",
   "execution_count": 11,
   "metadata": {},
   "outputs": [],
   "source": [
    "import pandas as pd\n",
    "from bs4 import BeautifulSoup\n",
    "import requests"
   ]
  },
  {
   "cell_type": "code",
   "execution_count": 13,
   "metadata": {},
   "outputs": [],
   "source": [
    "# download and import BeautifulSoup if you need to\n",
    "# !pip install beautifulsoup4"
   ]
  },
  {
   "cell_type": "markdown",
   "metadata": {},
   "source": [
    "## Pandas\n",
    "### Terminology reference\n",
    "#### Data structures\n",
    "##### 1-dimensional data (create Series)\n",
    "\n",
    "|pandas abbreviation|definition|example|\n",
    "|---|---|---|\n",
    "|dict|Python dictionary|`{'a': 'value', 'b': 'value'}`|\n",
    "|ndarray|N-dimensional array (can be 1 or 2 dimensional)|`[0, 1, 2, 3]`|\n",
    "|scalar|Single value|`100`|\n",
    "|list|Python list|`[0, 1, 2, 3]`|\n",
    "\n",
    "##### 2-dimensional data (create DataFrames)\n",
    "\n",
    "|pandas term|example|\n",
    "|---|---|\n",
    "|ndarray|`[[0, 1, 2, 3], [4, 5, 6, 7]]`|\n",
    "|dict of ndarrays|`{'one': [1, 2, 3, 4], 'two': [4, 3, 2, 1]}`|\n",
    "|list of dicts|`[{'id': 1, 'info': 'text'}, {'id': 2, 'info': 'more text'}]`|"
   ]
  },
  {
   "cell_type": "markdown",
   "metadata": {},
   "source": [
    "#### How do these look when loaded in pandas?\n",
    "[Taken from the Pandas User Guide](https://pandas.pydata.org/docs/user_guide/dsintro.html)"
   ]
  },
  {
   "cell_type": "code",
   "execution_count": 14,
   "metadata": {},
   "outputs": [
    {
     "data": {
      "text/plain": [
       "a    value\n",
       "b    value\n",
       "dtype: object"
      ]
     },
     "execution_count": 14,
     "metadata": {},
     "output_type": "execute_result"
    }
   ],
   "source": [
    "pd.Series({'a': 'value', 'b': 'value'})"
   ]
  },
  {
   "cell_type": "code",
   "execution_count": 56,
   "metadata": {},
   "outputs": [
    {
     "data": {
      "text/plain": [
       "0    0\n",
       "1    1\n",
       "2    2\n",
       "3    3\n",
       "dtype: int64"
      ]
     },
     "execution_count": 56,
     "metadata": {},
     "output_type": "execute_result"
    }
   ],
   "source": [
    "pd.Series([0, 1, 2, 3])"
   ]
  },
  {
   "cell_type": "code",
   "execution_count": 57,
   "metadata": {},
   "outputs": [
    {
     "data": {
      "text/plain": [
       "0    5\n",
       "dtype: int64"
      ]
     },
     "execution_count": 57,
     "metadata": {},
     "output_type": "execute_result"
    }
   ],
   "source": [
    "pd.Series(5)"
   ]
  },
  {
   "cell_type": "code",
   "execution_count": 18,
   "metadata": {},
   "outputs": [],
   "source": [
    "pd.DataFrame([{'id': 1, 'info': 'text'}, {'id': 2, 'info': 'more text'}])"
   ]
  },
  {
   "cell_type": "markdown",
   "metadata": {},
   "source": [
    "#### Other terms\n",
    "[See pd.to_datetime() as an example](https://pandas.pydata.org/docs/reference/api/pandas.to_datetime.html#pandas.to_datetime)\n",
    "\n",
    "#### parameters: Information that a function accepts \n",
    "- args\n",
    "    - Arguments that are required (or things that the function needs in order to run)\n",
    "    - i.e. data for your DataFrame\n",
    "- kwargs (even though Pandas does not identify them as such)\n",
    "    - Keyword arguments: optional arguments not necessary for a function to run, but will tell the function to behave in a different way than the default. Called \"keyword\" arguments because you have to identify the name of the variable\n",
    "    - i.e. errors='raise'"
   ]
  },
  {
   "cell_type": "markdown",
   "metadata": {},
   "source": [
    "### 1. Let's practice input/output with Pandas with the following links.\n",
    "Use Panda's [IO Tools](https://pandas.pydata.org/pandas-docs/stable/user_guide/io.html) section of their documentation to grab these datasets\n",
    "\n",
    "- [Avengers Wikia data - FiveThirtyEight](https://raw.githubusercontent.com/fivethirtyeight/data/master/comic-characters/marvel-wikia-data.csv) | [Documentation here](https://github.com/fivethirtyeight/data/tree/master/avengers)\n",
    "- [List of sovereign states - Wikipedia](https://en.wikipedia.org/wiki/List_of_sovereign_states)\n",
    "- [Homeless housing - LA Times](https://raw.githubusercontent.com/kyleykim/R_Scripts/master/la-me-ln-hhh-unequal/revised_data/master_data_geocoded.csv) | [Documentation](https://github.com/kyleykim/R_Scripts/tree/master/la-me-ln-hhh-unequal)"
   ]
  },
  {
   "cell_type": "code",
   "execution_count": null,
   "metadata": {},
   "outputs": [],
   "source": []
  },
  {
   "cell_type": "markdown",
   "metadata": {},
   "source": [
    "### 2. Let's practice working with missing data and selecting these values\n",
    "#### For each DataFrame, either select all the missing values of one column or select a unique categorical value.\n",
    "The [Indexing and selecting data¶](https://pandas.pydata.org/pandas-docs/stable/user_guide/indexing.html) section of Pandas documentation will help"
   ]
  },
  {
   "cell_type": "markdown",
   "metadata": {},
   "source": [
    "#### a. Avengers"
   ]
  },
  {
   "cell_type": "code",
   "execution_count": null,
   "metadata": {},
   "outputs": [],
   "source": []
  },
  {
   "cell_type": "markdown",
   "metadata": {},
   "source": [
    "#### b. Countries"
   ]
  },
  {
   "cell_type": "code",
   "execution_count": null,
   "metadata": {},
   "outputs": [],
   "source": []
  },
  {
   "cell_type": "markdown",
   "metadata": {},
   "source": [
    "#### c. LA homeless housing"
   ]
  },
  {
   "cell_type": "code",
   "execution_count": null,
   "metadata": {},
   "outputs": [],
   "source": []
  },
  {
   "cell_type": "markdown",
   "metadata": {},
   "source": [
    "### 3. Let's practice cleaning with intent"
   ]
  },
  {
   "cell_type": "markdown",
   "metadata": {},
   "source": [
    "#### Use each the three datasets loaded in to generate a question you want to answer with the data\n",
    "##### Tips\n",
    "- Show the column list the column types and null values\n",
    "- Find unique values to look at categorical data"
   ]
  },
  {
   "cell_type": "markdown",
   "metadata": {},
   "source": [
    "#### a. Avengers\n",
    "##### Question\n",
    "- How many Avengers have blonde hair? \n",
    "\n",
    "##### What cleaning do I need to do to answer the question\n",
    "- Look up what options of hair color are available (categories)\n",
    "- ID different spellings\n",
    "- Check count"
   ]
  },
  {
   "cell_type": "code",
   "execution_count": 42,
   "metadata": {},
   "outputs": [
    {
     "name": "stdout",
     "output_type": "stream",
     "text": [
      "<class 'pandas.core.frame.DataFrame'>\n",
      "RangeIndex: 16376 entries, 0 to 16375\n",
      "Data columns (total 13 columns):\n",
      " #   Column            Non-Null Count  Dtype  \n",
      "---  ------            --------------  -----  \n",
      " 0   page_id           16376 non-null  int64  \n",
      " 1   name              16376 non-null  object \n",
      " 2   urlslug           16376 non-null  object \n",
      " 3   ID                12606 non-null  object \n",
      " 4   ALIGN             13564 non-null  object \n",
      " 5   EYE               6609 non-null   object \n",
      " 6   HAIR              12112 non-null  object \n",
      " 7   SEX               15522 non-null  object \n",
      " 8   GSM               90 non-null     object \n",
      " 9   ALIVE             16373 non-null  object \n",
      " 10  APPEARANCES       15280 non-null  float64\n",
      " 11  FIRST APPEARANCE  15561 non-null  object \n",
      " 12  Year              15561 non-null  float64\n",
      "dtypes: float64(2), int64(1), object(10)\n",
      "memory usage: 1.6+ MB\n"
     ]
    }
   ],
   "source": [
    "# show the dataframe info here to get you started \n",
    "df_avengers.info()"
   ]
  },
  {
   "cell_type": "code",
   "execution_count": 46,
   "metadata": {},
   "outputs": [
    {
     "data": {
      "text/html": [
       "<div>\n",
       "<style scoped>\n",
       "    .dataframe tbody tr th:only-of-type {\n",
       "        vertical-align: middle;\n",
       "    }\n",
       "\n",
       "    .dataframe tbody tr th {\n",
       "        vertical-align: top;\n",
       "    }\n",
       "\n",
       "    .dataframe thead th {\n",
       "        text-align: right;\n",
       "    }\n",
       "</style>\n",
       "<table border=\"1\" class=\"dataframe\">\n",
       "  <thead>\n",
       "    <tr style=\"text-align: right;\">\n",
       "      <th></th>\n",
       "      <th>0</th>\n",
       "    </tr>\n",
       "  </thead>\n",
       "  <tbody>\n",
       "    <tr>\n",
       "      <th>0</th>\n",
       "      <td>Brown Hair</td>\n",
       "    </tr>\n",
       "    <tr>\n",
       "      <th>1</th>\n",
       "      <td>White Hair</td>\n",
       "    </tr>\n",
       "    <tr>\n",
       "      <th>2</th>\n",
       "      <td>Black Hair</td>\n",
       "    </tr>\n",
       "    <tr>\n",
       "      <th>3</th>\n",
       "      <td>Blond Hair</td>\n",
       "    </tr>\n",
       "    <tr>\n",
       "      <th>4</th>\n",
       "      <td>No Hair</td>\n",
       "    </tr>\n",
       "    <tr>\n",
       "      <th>5</th>\n",
       "      <td>Blue Hair</td>\n",
       "    </tr>\n",
       "    <tr>\n",
       "      <th>6</th>\n",
       "      <td>Red Hair</td>\n",
       "    </tr>\n",
       "    <tr>\n",
       "      <th>7</th>\n",
       "      <td>Bald</td>\n",
       "    </tr>\n",
       "    <tr>\n",
       "      <th>8</th>\n",
       "      <td>Auburn Hair</td>\n",
       "    </tr>\n",
       "    <tr>\n",
       "      <th>9</th>\n",
       "      <td>Grey Hair</td>\n",
       "    </tr>\n",
       "    <tr>\n",
       "      <th>10</th>\n",
       "      <td>Silver Hair</td>\n",
       "    </tr>\n",
       "    <tr>\n",
       "      <th>11</th>\n",
       "      <td>Purple Hair</td>\n",
       "    </tr>\n",
       "    <tr>\n",
       "      <th>12</th>\n",
       "      <td>Strawberry Blond Hair</td>\n",
       "    </tr>\n",
       "    <tr>\n",
       "      <th>13</th>\n",
       "      <td>Green Hair</td>\n",
       "    </tr>\n",
       "    <tr>\n",
       "      <th>14</th>\n",
       "      <td>Reddish Blond Hair</td>\n",
       "    </tr>\n",
       "    <tr>\n",
       "      <th>15</th>\n",
       "      <td>Gold Hair</td>\n",
       "    </tr>\n",
       "    <tr>\n",
       "      <th>16</th>\n",
       "      <td>NaN</td>\n",
       "    </tr>\n",
       "    <tr>\n",
       "      <th>17</th>\n",
       "      <td>Orange Hair</td>\n",
       "    </tr>\n",
       "    <tr>\n",
       "      <th>18</th>\n",
       "      <td>Pink Hair</td>\n",
       "    </tr>\n",
       "    <tr>\n",
       "      <th>19</th>\n",
       "      <td>Variable Hair</td>\n",
       "    </tr>\n",
       "    <tr>\n",
       "      <th>20</th>\n",
       "      <td>Yellow Hair</td>\n",
       "    </tr>\n",
       "    <tr>\n",
       "      <th>21</th>\n",
       "      <td>Light Brown Hair</td>\n",
       "    </tr>\n",
       "    <tr>\n",
       "      <th>22</th>\n",
       "      <td>Magenta Hair</td>\n",
       "    </tr>\n",
       "    <tr>\n",
       "      <th>23</th>\n",
       "      <td>Bronze Hair</td>\n",
       "    </tr>\n",
       "    <tr>\n",
       "      <th>24</th>\n",
       "      <td>Dyed Hair</td>\n",
       "    </tr>\n",
       "    <tr>\n",
       "      <th>25</th>\n",
       "      <td>Orange-brown Hair</td>\n",
       "    </tr>\n",
       "  </tbody>\n",
       "</table>\n",
       "</div>"
      ],
      "text/plain": [
       "                        0\n",
       "0              Brown Hair\n",
       "1              White Hair\n",
       "2              Black Hair\n",
       "3              Blond Hair\n",
       "4                 No Hair\n",
       "5               Blue Hair\n",
       "6                Red Hair\n",
       "7                    Bald\n",
       "8             Auburn Hair\n",
       "9               Grey Hair\n",
       "10            Silver Hair\n",
       "11            Purple Hair\n",
       "12  Strawberry Blond Hair\n",
       "13             Green Hair\n",
       "14     Reddish Blond Hair\n",
       "15              Gold Hair\n",
       "16                    NaN\n",
       "17            Orange Hair\n",
       "18              Pink Hair\n",
       "19          Variable Hair\n",
       "20            Yellow Hair\n",
       "21       Light Brown Hair\n",
       "22           Magenta Hair\n",
       "23            Bronze Hair\n",
       "24              Dyed Hair\n",
       "25      Orange-brown Hair"
      ]
     },
     "execution_count": 46,
     "metadata": {},
     "output_type": "execute_result"
    }
   ],
   "source": [
    "# Look up what options of hair color are available (categories)\n",
    "pd.DataFrame(df_avengers['HAIR'].unique())"
   ]
  },
  {
   "cell_type": "code",
   "execution_count": 47,
   "metadata": {},
   "outputs": [],
   "source": [
    "# ID different spellings\n",
    "# Let's create a broader category for hair"
   ]
  },
  {
   "cell_type": "code",
   "execution_count": 48,
   "metadata": {},
   "outputs": [
    {
     "data": {
      "text/plain": [
       "1582"
      ]
     },
     "execution_count": 48,
     "metadata": {},
     "output_type": "execute_result"
    }
   ],
   "source": [
    "# Check count\n",
    "len(df_avengers[df_avengers['HAIR'] == 'Blond Hair'])"
   ]
  },
  {
   "cell_type": "markdown",
   "metadata": {},
   "source": [
    "#### b. Countries\n",
    "##### Question\n",
    "- _your question here_\n",
    "\n",
    "##### What cleaning do I need to do to answer the question\n",
    "- \n",
    "- \n",
    "- "
   ]
  },
  {
   "cell_type": "code",
   "execution_count": null,
   "metadata": {},
   "outputs": [],
   "source": []
  },
  {
   "cell_type": "markdown",
   "metadata": {},
   "source": [
    "#### c. LA homeless housing\n",
    "##### Question\n",
    "- _your question here_\n",
    "\n",
    "##### What cleaning do I need to do to answer the question\n",
    "- \n",
    "- \n",
    "- "
   ]
  },
  {
   "cell_type": "code",
   "execution_count": null,
   "metadata": {},
   "outputs": [],
   "source": []
  },
  {
   "cell_type": "markdown",
   "metadata": {},
   "source": [
    "Take a look at the [LA Times'](https://github.com/datadesk/notebooks) or [FiveThirtyEight's](https://github.com/fivethirtyeight/data) for more practice"
   ]
  },
  {
   "cell_type": "markdown",
   "metadata": {},
   "source": [
    "## BeautifulSoup\n",
    "[BeautifulSoup documentation](https://www.crummy.com/software/BeautifulSoup/bs4/doc/)"
   ]
  },
  {
   "cell_type": "code",
   "execution_count": 50,
   "metadata": {},
   "outputs": [],
   "source": [
    "# load in the HTML and format for BS\n",
    "sp_url = 'https://en.wikipedia.org/wiki/List_of_S%26P_500_companies'"
   ]
  },
  {
   "cell_type": "code",
   "execution_count": 51,
   "metadata": {},
   "outputs": [],
   "source": [
    "sp_r = requests.get(sp_url)"
   ]
  },
  {
   "cell_type": "code",
   "execution_count": null,
   "metadata": {},
   "outputs": [],
   "source": []
  },
  {
   "cell_type": "code",
   "execution_count": 58,
   "metadata": {},
   "outputs": [],
   "source": [
    "sp_bs = BeautifulSoup(sp_r.text)"
   ]
  },
  {
   "cell_type": "code",
   "execution_count": 60,
   "metadata": {},
   "outputs": [],
   "source": [
    "# sp_bs"
   ]
  },
  {
   "cell_type": "code",
   "execution_count": 61,
   "metadata": {},
   "outputs": [
    {
     "data": {
      "text/plain": [
       "<title>List of S&amp;P 500 companies - Wikipedia</title>"
      ]
     },
     "execution_count": 61,
     "metadata": {},
     "output_type": "execute_result"
    }
   ],
   "source": [
    "# finds the title tag\n",
    "sp_bs.title"
   ]
  },
  {
   "cell_type": "code",
   "execution_count": 62,
   "metadata": {},
   "outputs": [
    {
     "data": {
      "text/plain": [
       "<a id=\"top\"></a>"
      ]
     },
     "execution_count": 62,
     "metadata": {},
     "output_type": "execute_result"
    }
   ],
   "source": [
    "# grab the first a tag\n",
    "sp_bs.a"
   ]
  },
  {
   "cell_type": "code",
   "execution_count": 65,
   "metadata": {},
   "outputs": [
    {
     "data": {
      "text/plain": [
       "3562"
      ]
     },
     "execution_count": 65,
     "metadata": {},
     "output_type": "execute_result"
    }
   ],
   "source": [
    "# finds all a tags\n",
    "len(sp_bs.find_all('a'))"
   ]
  },
  {
   "cell_type": "code",
   "execution_count": 66,
   "metadata": {},
   "outputs": [
    {
     "data": {
      "text/plain": [
       "[<a class=\"mw-jump-link\" href=\"#mw-head\">Jump to navigation</a>,\n",
       " <a class=\"mw-jump-link\" href=\"#searchInput\">Jump to search</a>]"
      ]
     },
     "execution_count": 66,
     "metadata": {},
     "output_type": "execute_result"
    }
   ],
   "source": [
    "# find all elements with the class \"mw-jump-link\"\n",
    "sp_bs.find_all(class_='mw-jump-link')"
   ]
  },
  {
   "cell_type": "markdown",
   "metadata": {},
   "source": [
    "### Traverse the DOM"
   ]
  },
  {
   "cell_type": "code",
   "execution_count": 71,
   "metadata": {},
   "outputs": [],
   "source": [
    "# we know the table we want is the first table in the DOM\n",
    "sp_tables = sp_bs.find_all('table')\n",
    "sp_tables = sp_tables[0]"
   ]
  },
  {
   "cell_type": "code",
   "execution_count": 69,
   "metadata": {},
   "outputs": [
    {
     "data": {
      "text/plain": [
       "2"
      ]
     },
     "execution_count": 69,
     "metadata": {},
     "output_type": "execute_result"
    }
   ],
   "source": [
    "len(sp_tables)"
   ]
  },
  {
   "cell_type": "code",
   "execution_count": 72,
   "metadata": {},
   "outputs": [],
   "source": [
    "# then we want to to read tr tags as groups of cells in a row and td tags as cells\n",
    "sp_trs = sp_tables.find_all('tr')"
   ]
  },
  {
   "cell_type": "code",
   "execution_count": 86,
   "metadata": {},
   "outputs": [],
   "source": [
    "sp_list = []\n",
    "for tr in sp_trs[1:]:\n",
    "    tds = tr.find_all('td')\n",
    "    tr_list = []\n",
    "    for (i, td) in enumerate(tds):\n",
    "        if(i == 2):\n",
    "            tr_list.append(td.find('a')['href'])\n",
    "        else:\n",
    "            tr_list.append(td.text)\n",
    "    sp_list.append(tr_list)"
   ]
  },
  {
   "cell_type": "code",
   "execution_count": 87,
   "metadata": {},
   "outputs": [],
   "source": [
    "sp_df = pd.DataFrame(sp_list)"
   ]
  },
  {
   "cell_type": "code",
   "execution_count": 88,
   "metadata": {},
   "outputs": [
    {
     "data": {
      "text/html": [
       "<div>\n",
       "<style scoped>\n",
       "    .dataframe tbody tr th:only-of-type {\n",
       "        vertical-align: middle;\n",
       "    }\n",
       "\n",
       "    .dataframe tbody tr th {\n",
       "        vertical-align: top;\n",
       "    }\n",
       "\n",
       "    .dataframe thead th {\n",
       "        text-align: right;\n",
       "    }\n",
       "</style>\n",
       "<table border=\"1\" class=\"dataframe\">\n",
       "  <thead>\n",
       "    <tr style=\"text-align: right;\">\n",
       "      <th></th>\n",
       "      <th>0</th>\n",
       "      <th>1</th>\n",
       "      <th>2</th>\n",
       "      <th>3</th>\n",
       "      <th>4</th>\n",
       "      <th>5</th>\n",
       "      <th>6</th>\n",
       "      <th>7</th>\n",
       "      <th>8</th>\n",
       "    </tr>\n",
       "  </thead>\n",
       "  <tbody>\n",
       "    <tr>\n",
       "      <th>0</th>\n",
       "      <td>MMM\\n</td>\n",
       "      <td>3M</td>\n",
       "      <td>https://www.sec.gov/cgi-bin/browse-edgar?CIK=M...</td>\n",
       "      <td>Industrials</td>\n",
       "      <td>Industrial Conglomerates</td>\n",
       "      <td>Saint Paul, Minnesota</td>\n",
       "      <td>1976-08-09</td>\n",
       "      <td>0000066740</td>\n",
       "      <td>1902\\n</td>\n",
       "    </tr>\n",
       "    <tr>\n",
       "      <th>1</th>\n",
       "      <td>ABT\\n</td>\n",
       "      <td>Abbott Laboratories</td>\n",
       "      <td>https://www.sec.gov/cgi-bin/browse-edgar?CIK=A...</td>\n",
       "      <td>Health Care</td>\n",
       "      <td>Health Care Equipment</td>\n",
       "      <td>North Chicago, Illinois</td>\n",
       "      <td>1964-03-31</td>\n",
       "      <td>0000001800</td>\n",
       "      <td>1888\\n</td>\n",
       "    </tr>\n",
       "    <tr>\n",
       "      <th>2</th>\n",
       "      <td>ABBV\\n</td>\n",
       "      <td>AbbVie</td>\n",
       "      <td>https://www.sec.gov/cgi-bin/browse-edgar?CIK=A...</td>\n",
       "      <td>Health Care</td>\n",
       "      <td>Pharmaceuticals</td>\n",
       "      <td>North Chicago, Illinois</td>\n",
       "      <td>2012-12-31</td>\n",
       "      <td>0001551152</td>\n",
       "      <td>2013 (1888)\\n</td>\n",
       "    </tr>\n",
       "    <tr>\n",
       "      <th>3</th>\n",
       "      <td>ABMD\\n</td>\n",
       "      <td>Abiomed</td>\n",
       "      <td>https://www.sec.gov/cgi-bin/browse-edgar?CIK=A...</td>\n",
       "      <td>Health Care</td>\n",
       "      <td>Health Care Equipment</td>\n",
       "      <td>Danvers, Massachusetts</td>\n",
       "      <td>2018-05-31</td>\n",
       "      <td>0000815094</td>\n",
       "      <td>1981\\n</td>\n",
       "    </tr>\n",
       "    <tr>\n",
       "      <th>4</th>\n",
       "      <td>ACN\\n</td>\n",
       "      <td>Accenture</td>\n",
       "      <td>https://www.sec.gov/cgi-bin/browse-edgar?CIK=A...</td>\n",
       "      <td>Information Technology</td>\n",
       "      <td>IT Consulting &amp; Other Services</td>\n",
       "      <td>Dublin, Ireland</td>\n",
       "      <td>2011-07-06</td>\n",
       "      <td>0001467373</td>\n",
       "      <td>1989\\n</td>\n",
       "    </tr>\n",
       "    <tr>\n",
       "      <th>...</th>\n",
       "      <td>...</td>\n",
       "      <td>...</td>\n",
       "      <td>...</td>\n",
       "      <td>...</td>\n",
       "      <td>...</td>\n",
       "      <td>...</td>\n",
       "      <td>...</td>\n",
       "      <td>...</td>\n",
       "      <td>...</td>\n",
       "    </tr>\n",
       "    <tr>\n",
       "      <th>500</th>\n",
       "      <td>YUM\\n</td>\n",
       "      <td>Yum! Brands</td>\n",
       "      <td>https://www.sec.gov/cgi-bin/browse-edgar?CIK=Y...</td>\n",
       "      <td>Consumer Discretionary</td>\n",
       "      <td>Restaurants</td>\n",
       "      <td>Louisville, Kentucky</td>\n",
       "      <td>1997-10-06</td>\n",
       "      <td>0001041061\\n</td>\n",
       "      <td>1997\\n</td>\n",
       "    </tr>\n",
       "    <tr>\n",
       "      <th>501</th>\n",
       "      <td>ZBRA\\n</td>\n",
       "      <td>Zebra Technologies</td>\n",
       "      <td>https://www.sec.gov/cgi-bin/browse-edgar?CIK=Z...</td>\n",
       "      <td>Information Technology</td>\n",
       "      <td>Electronic Equipment &amp; Instruments</td>\n",
       "      <td>Lincolnshire, Illinois</td>\n",
       "      <td>2019-12-23</td>\n",
       "      <td>0000877212\\n</td>\n",
       "      <td>1969\\n</td>\n",
       "    </tr>\n",
       "    <tr>\n",
       "      <th>502</th>\n",
       "      <td>ZBH\\n</td>\n",
       "      <td>Zimmer Biomet</td>\n",
       "      <td>https://www.sec.gov/cgi-bin/browse-edgar?CIK=Z...</td>\n",
       "      <td>Health Care</td>\n",
       "      <td>Health Care Equipment</td>\n",
       "      <td>Warsaw, Indiana</td>\n",
       "      <td>2001-08-07</td>\n",
       "      <td>0001136869\\n</td>\n",
       "      <td>1927\\n</td>\n",
       "    </tr>\n",
       "    <tr>\n",
       "      <th>503</th>\n",
       "      <td>ZION\\n</td>\n",
       "      <td>Zions Bancorp</td>\n",
       "      <td>https://www.sec.gov/cgi-bin/browse-edgar?CIK=Z...</td>\n",
       "      <td>Financials</td>\n",
       "      <td>Regional Banks</td>\n",
       "      <td>Salt Lake City, Utah</td>\n",
       "      <td>2001-06-22</td>\n",
       "      <td>0000109380\\n</td>\n",
       "      <td>1873\\n</td>\n",
       "    </tr>\n",
       "    <tr>\n",
       "      <th>504</th>\n",
       "      <td>ZTS\\n</td>\n",
       "      <td>Zoetis</td>\n",
       "      <td>https://www.sec.gov/cgi-bin/browse-edgar?CIK=Z...</td>\n",
       "      <td>Health Care</td>\n",
       "      <td>Pharmaceuticals</td>\n",
       "      <td>Parsippany, New Jersey</td>\n",
       "      <td>2013-06-21</td>\n",
       "      <td>0001555280</td>\n",
       "      <td>1952\\n</td>\n",
       "    </tr>\n",
       "  </tbody>\n",
       "</table>\n",
       "<p>505 rows × 9 columns</p>\n",
       "</div>"
      ],
      "text/plain": [
       "          0                    1  \\\n",
       "0     MMM\\n                   3M   \n",
       "1     ABT\\n  Abbott Laboratories   \n",
       "2    ABBV\\n               AbbVie   \n",
       "3    ABMD\\n              Abiomed   \n",
       "4     ACN\\n            Accenture   \n",
       "..      ...                  ...   \n",
       "500   YUM\\n          Yum! Brands   \n",
       "501  ZBRA\\n   Zebra Technologies   \n",
       "502   ZBH\\n        Zimmer Biomet   \n",
       "503  ZION\\n        Zions Bancorp   \n",
       "504   ZTS\\n               Zoetis   \n",
       "\n",
       "                                                     2  \\\n",
       "0    https://www.sec.gov/cgi-bin/browse-edgar?CIK=M...   \n",
       "1    https://www.sec.gov/cgi-bin/browse-edgar?CIK=A...   \n",
       "2    https://www.sec.gov/cgi-bin/browse-edgar?CIK=A...   \n",
       "3    https://www.sec.gov/cgi-bin/browse-edgar?CIK=A...   \n",
       "4    https://www.sec.gov/cgi-bin/browse-edgar?CIK=A...   \n",
       "..                                                 ...   \n",
       "500  https://www.sec.gov/cgi-bin/browse-edgar?CIK=Y...   \n",
       "501  https://www.sec.gov/cgi-bin/browse-edgar?CIK=Z...   \n",
       "502  https://www.sec.gov/cgi-bin/browse-edgar?CIK=Z...   \n",
       "503  https://www.sec.gov/cgi-bin/browse-edgar?CIK=Z...   \n",
       "504  https://www.sec.gov/cgi-bin/browse-edgar?CIK=Z...   \n",
       "\n",
       "                          3                                   4  \\\n",
       "0               Industrials            Industrial Conglomerates   \n",
       "1               Health Care               Health Care Equipment   \n",
       "2               Health Care                     Pharmaceuticals   \n",
       "3               Health Care               Health Care Equipment   \n",
       "4    Information Technology      IT Consulting & Other Services   \n",
       "..                      ...                                 ...   \n",
       "500  Consumer Discretionary                         Restaurants   \n",
       "501  Information Technology  Electronic Equipment & Instruments   \n",
       "502             Health Care               Health Care Equipment   \n",
       "503              Financials                      Regional Banks   \n",
       "504             Health Care                     Pharmaceuticals   \n",
       "\n",
       "                           5           6             7              8  \n",
       "0      Saint Paul, Minnesota  1976-08-09    0000066740         1902\\n  \n",
       "1    North Chicago, Illinois  1964-03-31    0000001800         1888\\n  \n",
       "2    North Chicago, Illinois  2012-12-31    0001551152  2013 (1888)\\n  \n",
       "3     Danvers, Massachusetts  2018-05-31    0000815094         1981\\n  \n",
       "4            Dublin, Ireland  2011-07-06    0001467373         1989\\n  \n",
       "..                       ...         ...           ...            ...  \n",
       "500     Louisville, Kentucky  1997-10-06  0001041061\\n         1997\\n  \n",
       "501   Lincolnshire, Illinois  2019-12-23  0000877212\\n         1969\\n  \n",
       "502          Warsaw, Indiana  2001-08-07  0001136869\\n         1927\\n  \n",
       "503     Salt Lake City, Utah  2001-06-22  0000109380\\n         1873\\n  \n",
       "504   Parsippany, New Jersey  2013-06-21    0001555280         1952\\n  \n",
       "\n",
       "[505 rows x 9 columns]"
      ]
     },
     "execution_count": 88,
     "metadata": {},
     "output_type": "execute_result"
    }
   ],
   "source": [
    "[{'url': 'https://www.sec.gov/cgi-bin/browse-edgar?CIK=M'}]\n",
    "td['url']\n",
    "[0, 1, 'https://www.sec.gov/cgi-bin/browse-edgar?CIK=M']"
   ]
  },
  {
   "cell_type": "code",
   "execution_count": 75,
   "metadata": {},
   "outputs": [],
   "source": [
    "# sp_trs[0]"
   ]
  },
  {
   "cell_type": "code",
   "execution_count": 7,
   "metadata": {},
   "outputs": [],
   "source": [
    "# find where the data you want resides (a tag, class name, etc)"
   ]
  },
  {
   "cell_type": "code",
   "execution_count": 8,
   "metadata": {},
   "outputs": [],
   "source": [
    "# find_all tr"
   ]
  },
  {
   "cell_type": "code",
   "execution_count": 9,
   "metadata": {},
   "outputs": [],
   "source": [
    "# separate the first tr tag row for the header"
   ]
  },
  {
   "cell_type": "code",
   "execution_count": 10,
   "metadata": {},
   "outputs": [],
   "source": [
    "# for each tr, find tds then for each td get text inside, then save to new array"
   ]
  },
  {
   "cell_type": "markdown",
   "metadata": {},
   "source": [
    "### We can do more cleaning here"
   ]
  },
  {
   "cell_type": "code",
   "execution_count": null,
   "metadata": {},
   "outputs": [],
   "source": []
  }
 ],
 "metadata": {
  "kernelspec": {
   "display_name": "Lede2021-fTxvBHm",
   "language": "python",
   "name": "lede2021-ftxvbhm"
  },
  "language_info": {
   "codemirror_mode": {
    "name": "ipython",
    "version": 3
   },
   "file_extension": ".py",
   "mimetype": "text/x-python",
   "name": "python",
   "nbconvert_exporter": "python",
   "pygments_lexer": "ipython3",
   "version": "3.8.10"
  }
 },
 "nbformat": 4,
 "nbformat_minor": 4
}
