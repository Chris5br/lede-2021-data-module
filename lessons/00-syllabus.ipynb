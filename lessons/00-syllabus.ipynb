{
 "cells": [
  {
   "cell_type": "markdown",
   "metadata": {},
   "source": [
    "# Introduction to data cleaning and analysis"
   ]
  },
  {
   "cell_type": "markdown",
   "metadata": {},
   "source": [
    "## Schedule"
   ]
  },
  {
   "cell_type": "markdown",
   "metadata": {},
   "source": [
    "### Bulletproofing your data\n",
    "#### June 28\n",
    "- 10:00: introductions\n",
    "- 10:30: set up repo and go throug syllabus\n",
    "- 11:00: what is data cleaning?\n",
    " - [Data cleaning IS analysis, not grunt work - Randy Au](https://counting.substack.com/p/data-cleaning-is-analysis-not-grunt)\n",
    " - [Why it so hard to teach data cleaning - Randy Au](https://counting.substack.com/p/whys-it-hard-to-teach-data-cleaning)\n",
    "- 11:30: go through common data \"gotchas\"\n",
    " - [Bulletproofing your data - ProPublica](https://github.com/propublica/guides/blob/master/data-bulletproofing.md)\n",
    " - [The Quartz guide to bad data](https://github.com/Quartz/bad-data-guide)\n",
    " - Pull your own?\n",
    "- 12:00: using these checklists, perform the common checks in Excel or Google Sheets and document each step you take in a separate text file that can be committed to a Github repo.\n",
    "- 12:30: overview of finding data\n",
    "\n",
    "#### Additional links\n",
    "- [Subscribe to Randy Au's newsletter Counting Stuff](https://counting.substack.com/)"
   ]
  },
  {
   "cell_type": "markdown",
   "metadata": {},
   "source": [
    "### Organizing your data\n",
    "#### June 30\n",
    "- 10:00: How to approach a new dataset\n",
    "    - Common pitfalls from Monday\n",
    "    - Pseudocoding\n",
    "    - Interviewing\n",
    "    - Generating questions you want answered\n",
    "- 11:00: Get organized\n",
    "    - Documentation\n",
    "    - File organization\n",
    "    - Version control\n",
    "- 12:30: How to find and use documentation\n",
    "    - What to look for\n",
    "    - When there is no documentation"
   ]
  },
  {
   "cell_type": "markdown",
   "metadata": {},
   "source": [
    "### Cleaning common datasets\n",
    "#### July 5\n",
    "- 10:00: Data from government sources\n",
    " - Census\n",
    "   - Understanding American Community Survey (estimates) vs Decennial Census (actuals)\n",
    "   - Geographical codes\n",
    "   - Margin of error\n",
    " - 10:45: Economic sources\n",
    "   - Units (in millions, in billions)\n",
    "   - Understanding timeframes\n",
    "   - Understanding BLS and BEA surveys\n",
    "- 11:30: Financial data\n",
    "   - The trouble with dates\n",
    "   - Share price, market value\n",
    "- 12:15: Putting it all together\n",
    "   - VLOOKUP, merge, join\n",
    "   - Bulletproofing merge and join operations\n",
    "   \n",
    "#### Additional links\n",
    "- [data.gov](data.gov)"
   ]
  },
  {
   "cell_type": "markdown",
   "metadata": {},
   "source": [
    "### Cleaning studies and surveys\n",
    "#### July 7\n",
    "- 10:00 Data from academic studies and surveys\n",
    "    - Methodology\n",
    "    - Sampling methods\n",
    "      - [Types of Sampling Methods - YouTube](https://www.youtube.com/watch?v=pTuj57uXWlk)\n",
    "    - Polling\n",
    "      - [Polling in Real Time: The 2018 Midterm Elections - NYT/Siena College](https://www.nytimes.com/interactive/2018/upshot/elections-polls.html)\n",
    "    - Data sources\n",
    "- 11:30 Data from web scraping\n",
    "    - What is web scraping? Ethical/legal questions (discussion)\n",
    "    - BeautifulSoup (technical)\n",
    "      - [Installing BeautifulSoup](https://www.crummy.com/software/BeautifulSoup/bs4/doc/#installing-beautiful-soup)\n",
    "    - String trimming\n",
    "    - Standardizing case\n",
    "    - Unicode and special characters"
   ]
  },
  {
   "cell_type": "markdown",
   "metadata": {},
   "source": [
    "### Cleaning your data with charts\n",
    "#### July 12\n",
    "- 11:00 Intro to Matplotlib within Jupyter Notebook\n",
    "   - Finding missing data\n",
    "   - Finding outliers\n",
    "   - Generating more questions"
   ]
  },
  {
   "cell_type": "markdown",
   "metadata": {},
   "source": [
    "###  Editing the data analysis process\n",
    "#### July 14\n",
    "1. Catch-up\n",
    "1. Editing the data analysis process.\n",
    "1. Complete Jupyter Notebook that is well documented, replicable and answers three questions asked in your analysis (words or charts.)"
   ]
  },
  {
   "cell_type": "code",
   "execution_count": null,
   "metadata": {},
   "outputs": [],
   "source": []
  }
 ],
 "metadata": {
  "kernelspec": {
   "display_name": "Python 3",
   "language": "python",
   "name": "python3"
  },
  "language_info": {
   "codemirror_mode": {
    "name": "ipython",
    "version": 3
   },
   "file_extension": ".py",
   "mimetype": "text/x-python",
   "name": "python",
   "nbconvert_exporter": "python",
   "pygments_lexer": "ipython3",
   "version": "3.8.1"
  }
 },
 "nbformat": 4,
 "nbformat_minor": 4
}
